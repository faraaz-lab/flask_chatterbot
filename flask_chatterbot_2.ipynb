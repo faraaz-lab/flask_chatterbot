{
  "nbformat": 4,
  "nbformat_minor": 0,
  "metadata": {
    "kernelspec": {
      "name": "python3",
      "display_name": "Python 3"
    },
    "colab": {
      "name": "flask_chatterbot_2",
      "provenance": [],
      "include_colab_link": true
    }
  },
  "cells": [
    {
      "cell_type": "markdown",
      "metadata": {
        "id": "view-in-github",
        "colab_type": "text"
      },
      "source": [
        "<a href=\"https://colab.research.google.com/github/faraaz-lab/flask_chatterbot/blob/master/flask_chatterbot_2.ipynb\" target=\"_parent\"><img src=\"https://colab.research.google.com/assets/colab-badge.svg\" alt=\"Open In Colab\"/></a>"
      ]
    },
    {
      "cell_type": "code",
      "metadata": {
        "id": "w8x3j86RNW-H",
        "colab_type": "code",
        "colab": {
          "base_uri": "https://localhost:8080/",
          "height": 102
        },
        "outputId": "5356216e-d539-44bf-adae-4184ec197d20"
      },
      "source": [
        "!git clone https://github.com/chamkank/flask-chatterbot.git"
      ],
      "execution_count": 1,
      "outputs": [
        {
          "output_type": "stream",
          "text": [
            "Cloning into 'flask-chatterbot'...\n",
            "remote: Enumerating objects: 118, done.\u001b[K\n",
            "Receiving objects:   0% (1/118)   \rReceiving objects:   1% (2/118)   \rReceiving objects:   2% (3/118)   \rReceiving objects:   3% (4/118)   \rReceiving objects:   4% (5/118)   \rReceiving objects:   5% (6/118)   \rReceiving objects:   6% (8/118)   \rReceiving objects:   7% (9/118)   \rReceiving objects:   8% (10/118)   \rReceiving objects:   9% (11/118)   \rReceiving objects:  10% (12/118)   \rReceiving objects:  11% (13/118)   \rReceiving objects:  12% (15/118)   \rReceiving objects:  13% (16/118)   \rReceiving objects:  14% (17/118)   \rReceiving objects:  15% (18/118)   \rReceiving objects:  16% (19/118)   \rReceiving objects:  17% (21/118)   \rReceiving objects:  18% (22/118)   \rReceiving objects:  19% (23/118)   \rReceiving objects:  20% (24/118)   \rReceiving objects:  21% (25/118)   \rReceiving objects:  22% (26/118)   \rReceiving objects:  23% (28/118)   \rReceiving objects:  24% (29/118)   \rReceiving objects:  25% (30/118)   \rReceiving objects:  26% (31/118)   \rReceiving objects:  27% (32/118)   \rReceiving objects:  28% (34/118)   \rReceiving objects:  29% (35/118)   \rReceiving objects:  30% (36/118)   \rReceiving objects:  31% (37/118)   \rReceiving objects:  32% (38/118)   \rReceiving objects:  33% (39/118)   \rReceiving objects:  34% (41/118)   \rReceiving objects:  35% (42/118)   \rReceiving objects:  36% (43/118)   \rReceiving objects:  37% (44/118)   \rReceiving objects:  38% (45/118)   \rReceiving objects:  39% (47/118)   \rReceiving objects:  40% (48/118)   \rReceiving objects:  41% (49/118)   \rReceiving objects:  42% (50/118)   \rReceiving objects:  43% (51/118)   \rReceiving objects:  44% (52/118)   \rReceiving objects:  45% (54/118)   \rReceiving objects:  46% (55/118)   \rReceiving objects:  47% (56/118)   \rReceiving objects:  48% (57/118)   \rReceiving objects:  49% (58/118)   \rReceiving objects:  50% (59/118)   \rReceiving objects:  51% (61/118)   \rReceiving objects:  52% (62/118)   \rReceiving objects:  53% (63/118)   \rReceiving objects:  54% (64/118)   \rReceiving objects:  55% (65/118)   \rReceiving objects:  56% (67/118)   \rReceiving objects:  57% (68/118)   \rReceiving objects:  58% (69/118)   \rReceiving objects:  59% (70/118)   \rReceiving objects:  60% (71/118)   \rReceiving objects:  61% (72/118)   \rReceiving objects:  62% (74/118)   \rReceiving objects:  63% (75/118)   \rReceiving objects:  64% (76/118)   \rReceiving objects:  65% (77/118)   \rReceiving objects:  66% (78/118)   \rReceiving objects:  67% (80/118)   \rReceiving objects:  68% (81/118)   \rReceiving objects:  69% (82/118)   \rReceiving objects:  70% (83/118)   \rReceiving objects:  71% (84/118)   \rReceiving objects:  72% (85/118)   \rReceiving objects:  73% (87/118)   \rReceiving objects:  74% (88/118)   \rReceiving objects:  75% (89/118)   \rReceiving objects:  76% (90/118)   \rReceiving objects:  77% (91/118)   \rReceiving objects:  78% (93/118)   \rReceiving objects:  79% (94/118)   \rReceiving objects:  80% (95/118)   \rReceiving objects:  81% (96/118)   \rReceiving objects:  82% (97/118)   \rReceiving objects:  83% (98/118)   \rReceiving objects:  84% (100/118)   \rReceiving objects:  85% (101/118)   \rReceiving objects:  86% (102/118)   \rReceiving objects:  87% (103/118)   \rReceiving objects:  88% (104/118)   \rReceiving objects:  89% (106/118)   \rReceiving objects:  90% (107/118)   \rReceiving objects:  91% (108/118)   \rReceiving objects:  92% (109/118)   \rReceiving objects:  93% (110/118)   \rReceiving objects:  94% (111/118)   \rReceiving objects:  95% (113/118)   \rReceiving objects:  96% (114/118)   \rReceiving objects:  97% (115/118)   \rReceiving objects:  98% (116/118)   \rremote: Total 118 (delta 0), reused 0 (delta 0), pack-reused 118\u001b[K\n",
            "Receiving objects:  99% (117/118)   \rReceiving objects: 100% (118/118)   \rReceiving objects: 100% (118/118), 48.45 KiB | 6.06 MiB/s, done.\n",
            "Resolving deltas:   0% (0/45)   \rResolving deltas:   2% (1/45)   \rResolving deltas:  15% (7/45)   \rResolving deltas:  22% (10/45)   \rResolving deltas:  31% (14/45)   \rResolving deltas:  44% (20/45)   \rResolving deltas:  46% (21/45)   \rResolving deltas:  48% (22/45)   \rResolving deltas:  64% (29/45)   \rResolving deltas:  66% (30/45)   \rResolving deltas:  73% (33/45)   \rResolving deltas:  82% (37/45)   \rResolving deltas:  84% (38/45)   \rResolving deltas: 100% (45/45)   \rResolving deltas: 100% (45/45), done.\n"
          ],
          "name": "stdout"
        }
      ]
    },
    {
      "cell_type": "markdown",
      "metadata": {
        "id": "mRSCk70yNh1I",
        "colab_type": "text"
      },
      "source": [
        "Requirements:\n",
        "\n",
        "Flask\n",
        "Flask-Admin\n",
        "Flask-Migrate\n",
        "Flask-Script\n",
        "Flask-SQLAlchemy\n",
        "gevent\n",
        "numpy\n",
        "rasa-nlu\n",
        "requests\n",
        "spacy\n",
        "sklearn==0.19.1\n",
        "sklearn_crfsuite"
      ]
    },
    {
      "cell_type": "code",
      "metadata": {
        "id": "kYMgU8WENW-g",
        "colab_type": "code",
        "colab": {
          "base_uri": "https://localhost:8080/",
          "height": 122
        },
        "outputId": "fefb4580-ae6b-497a-e8ce-6574cbe72366"
      },
      "source": [
        "from google.colab import drive\n",
        "drive.mount('/content/drive')"
      ],
      "execution_count": 2,
      "outputs": [
        {
          "output_type": "stream",
          "text": [
            "Go to this URL in a browser: https://accounts.google.com/o/oauth2/auth?client_id=947318989803-6bn6qk8qdgf4n4g3pfee6491hc0brc4i.apps.googleusercontent.com&redirect_uri=urn%3aietf%3awg%3aoauth%3a2.0%3aoob&response_type=code&scope=email%20https%3a%2f%2fwww.googleapis.com%2fauth%2fdocs.test%20https%3a%2f%2fwww.googleapis.com%2fauth%2fdrive%20https%3a%2f%2fwww.googleapis.com%2fauth%2fdrive.photos.readonly%20https%3a%2f%2fwww.googleapis.com%2fauth%2fpeopleapi.readonly\n",
            "\n",
            "Enter your authorization code:\n",
            "··········\n",
            "Mounted at /content/drive\n"
          ],
          "name": "stdout"
        }
      ]
    },
    {
      "cell_type": "code",
      "metadata": {
        "id": "W910LDrgQjub",
        "colab_type": "code",
        "outputId": "c2d6f06f-05ce-4467-c7fc-ab441fd0f4db",
        "colab": {
          "base_uri": "https://localhost:8080/",
          "height": 34
        }
      },
      "source": [
        "!ls"
      ],
      "execution_count": 3,
      "outputs": [
        {
          "output_type": "stream",
          "text": [
            "drive  flask-chatterbot  sample_data\n"
          ],
          "name": "stdout"
        }
      ]
    },
    {
      "cell_type": "code",
      "metadata": {
        "id": "pSZRn8MiQmYc",
        "colab_type": "code",
        "colab": {}
      },
      "source": [
        "!cp -rf flask-chatterbot \"/content/drive/My Drive/flask-chatterbot\""
      ],
      "execution_count": 0,
      "outputs": []
    },
    {
      "cell_type": "code",
      "metadata": {
        "id": "GYGeaatsQtRG",
        "colab_type": "code",
        "colab": {}
      },
      "source": [
        "!cp -rf sample_data \"/content/drive/My Drive/flask-chatterbot/sample_data\""
      ],
      "execution_count": 0,
      "outputs": []
    },
    {
      "cell_type": "code",
      "metadata": {
        "id": "dgrmpqSyQv2W",
        "colab_type": "code",
        "colab": {}
      },
      "source": [
        "!cd \"/content/drive/My Drive/flask-chatterbot\""
      ],
      "execution_count": 0,
      "outputs": []
    },
    {
      "cell_type": "code",
      "metadata": {
        "id": "chrz2zsJRiUP",
        "colab_type": "code",
        "colab": {
          "base_uri": "https://localhost:8080/",
          "height": 1000
        },
        "outputId": "f50b6dfc-9302-4cb7-95c0-68e1564540b3"
      },
      "source": [
        "!pip install -r \"/content/drive/My Drive/flask-chatterbot/requirements.txt\""
      ],
      "execution_count": 12,
      "outputs": [
        {
          "output_type": "stream",
          "text": [
            "Requirement already satisfied: Flask>=1.0.0 in /usr/local/lib/python3.6/dist-packages (from -r /content/drive/My Drive/flask-chatterbot/requirements.txt (line 4)) (1.1.1)\n",
            "Collecting chatterbot>=1.0.0\n",
            "\u001b[?25l  Downloading https://files.pythonhosted.org/packages/6c/0e/dac0d82f34f86bf509cf5ef3e2dfc5aa7d444bd843a2330ceb7d854f84f2/ChatterBot-1.0.5-py2.py3-none-any.whl (67kB)\n",
            "\u001b[K     |████████████████████████████████| 71kB 2.1MB/s \n",
            "\u001b[?25hCollecting chatterbot-corpus>=1.2.0\n",
            "\u001b[?25l  Downloading https://files.pythonhosted.org/packages/ed/19/f8b41daf36fe4b0f43e283a820362ffdb2c1128600ab4ee187e84262fa4d/chatterbot_corpus-1.2.0-py2.py3-none-any.whl (117kB)\n",
            "\u001b[K     |████████████████████████████████| 122kB 7.8MB/s \n",
            "\u001b[?25hRequirement already satisfied: SQLAlchemy>=1.2 in /usr/local/lib/python3.6/dist-packages (from -r /content/drive/My Drive/flask-chatterbot/requirements.txt (line 7)) (1.3.13)\n",
            "Requirement already satisfied: Jinja2>=2.10.1 in /usr/local/lib/python3.6/dist-packages (from Flask>=1.0.0->-r /content/drive/My Drive/flask-chatterbot/requirements.txt (line 4)) (2.11.1)\n",
            "Requirement already satisfied: click>=5.1 in /usr/local/lib/python3.6/dist-packages (from Flask>=1.0.0->-r /content/drive/My Drive/flask-chatterbot/requirements.txt (line 4)) (7.0)\n",
            "Requirement already satisfied: itsdangerous>=0.24 in /usr/local/lib/python3.6/dist-packages (from Flask>=1.0.0->-r /content/drive/My Drive/flask-chatterbot/requirements.txt (line 4)) (1.1.0)\n",
            "Requirement already satisfied: Werkzeug>=0.15 in /usr/local/lib/python3.6/dist-packages (from Flask>=1.0.0->-r /content/drive/My Drive/flask-chatterbot/requirements.txt (line 4)) (1.0.0)\n",
            "Collecting pint>=0.8.1\n",
            "\u001b[?25l  Downloading https://files.pythonhosted.org/packages/9d/db/7a2204b03c22069839958df5723eb2718d50c33052e0da84c9a83de14ea4/Pint-0.11-py2.py3-none-any.whl (186kB)\n",
            "\u001b[K     |████████████████████████████████| 194kB 21.5MB/s \n",
            "\u001b[?25hCollecting mathparse<0.2,>=0.1\n",
            "  Downloading https://files.pythonhosted.org/packages/c3/e5/4910fb85950cb960fcf3f5aabe1c8e55f5c9201788a1c1302b570a7e1f84/mathparse-0.1.2-py3-none-any.whl\n",
            "Collecting pyyaml<5.2,>=5.1\n",
            "\u001b[?25l  Downloading https://files.pythonhosted.org/packages/e3/e8/b3212641ee2718d556df0f23f78de8303f068fe29cdaa7a91018849582fe/PyYAML-5.1.2.tar.gz (265kB)\n",
            "\u001b[K     |████████████████████████████████| 266kB 40.6MB/s \n",
            "\u001b[?25hRequirement already satisfied: pytz in /usr/local/lib/python3.6/dist-packages (from chatterbot>=1.0.0->-r /content/drive/My Drive/flask-chatterbot/requirements.txt (line 5)) (2018.9)\n",
            "Requirement already satisfied: nltk<4.0,>=3.2 in /usr/local/lib/python3.6/dist-packages (from chatterbot>=1.0.0->-r /content/drive/My Drive/flask-chatterbot/requirements.txt (line 5)) (3.2.5)\n",
            "Collecting python-dateutil<2.8,>=2.7\n",
            "\u001b[?25l  Downloading https://files.pythonhosted.org/packages/74/68/d87d9b36af36f44254a8d512cbfc48369103a3b9e474be9bdfe536abfc45/python_dateutil-2.7.5-py2.py3-none-any.whl (225kB)\n",
            "\u001b[K     |████████████████████████████████| 235kB 38.6MB/s \n",
            "\u001b[?25hRequirement already satisfied: pymongo<4.0,>=3.3 in /usr/local/lib/python3.6/dist-packages (from chatterbot>=1.0.0->-r /content/drive/My Drive/flask-chatterbot/requirements.txt (line 5)) (3.10.1)\n",
            "Requirement already satisfied: spacy<2.2,>=2.1 in /usr/local/lib/python3.6/dist-packages (from chatterbot>=1.0.0->-r /content/drive/My Drive/flask-chatterbot/requirements.txt (line 5)) (2.1.9)\n",
            "Requirement already satisfied: MarkupSafe>=0.23 in /usr/local/lib/python3.6/dist-packages (from Jinja2>=2.10.1->Flask>=1.0.0->-r /content/drive/My Drive/flask-chatterbot/requirements.txt (line 4)) (1.1.1)\n",
            "Requirement already satisfied: setuptools in /usr/local/lib/python3.6/dist-packages (from pint>=0.8.1->chatterbot>=1.0.0->-r /content/drive/My Drive/flask-chatterbot/requirements.txt (line 5)) (45.1.0)\n",
            "Requirement already satisfied: six in /usr/local/lib/python3.6/dist-packages (from nltk<4.0,>=3.2->chatterbot>=1.0.0->-r /content/drive/My Drive/flask-chatterbot/requirements.txt (line 5)) (1.12.0)\n",
            "Requirement already satisfied: murmurhash<1.1.0,>=0.28.0 in /usr/local/lib/python3.6/dist-packages (from spacy<2.2,>=2.1->chatterbot>=1.0.0->-r /content/drive/My Drive/flask-chatterbot/requirements.txt (line 5)) (1.0.2)\n",
            "Requirement already satisfied: requests<3.0.0,>=2.13.0 in /usr/local/lib/python3.6/dist-packages (from spacy<2.2,>=2.1->chatterbot>=1.0.0->-r /content/drive/My Drive/flask-chatterbot/requirements.txt (line 5)) (2.21.0)\n",
            "Requirement already satisfied: blis<0.3.0,>=0.2.2 in /usr/local/lib/python3.6/dist-packages (from spacy<2.2,>=2.1->chatterbot>=1.0.0->-r /content/drive/My Drive/flask-chatterbot/requirements.txt (line 5)) (0.2.4)\n",
            "Requirement already satisfied: thinc<7.1.0,>=7.0.8 in /usr/local/lib/python3.6/dist-packages (from spacy<2.2,>=2.1->chatterbot>=1.0.0->-r /content/drive/My Drive/flask-chatterbot/requirements.txt (line 5)) (7.0.8)\n",
            "Requirement already satisfied: plac<1.0.0,>=0.9.6 in /usr/local/lib/python3.6/dist-packages (from spacy<2.2,>=2.1->chatterbot>=1.0.0->-r /content/drive/My Drive/flask-chatterbot/requirements.txt (line 5)) (0.9.6)\n",
            "Requirement already satisfied: wasabi<1.1.0,>=0.2.0 in /usr/local/lib/python3.6/dist-packages (from spacy<2.2,>=2.1->chatterbot>=1.0.0->-r /content/drive/My Drive/flask-chatterbot/requirements.txt (line 5)) (0.6.0)\n",
            "Requirement already satisfied: srsly<1.1.0,>=0.0.6 in /usr/local/lib/python3.6/dist-packages (from spacy<2.2,>=2.1->chatterbot>=1.0.0->-r /content/drive/My Drive/flask-chatterbot/requirements.txt (line 5)) (1.0.1)\n",
            "Requirement already satisfied: cymem<2.1.0,>=2.0.2 in /usr/local/lib/python3.6/dist-packages (from spacy<2.2,>=2.1->chatterbot>=1.0.0->-r /content/drive/My Drive/flask-chatterbot/requirements.txt (line 5)) (2.0.3)\n",
            "Requirement already satisfied: preshed<2.1.0,>=2.0.1 in /usr/local/lib/python3.6/dist-packages (from spacy<2.2,>=2.1->chatterbot>=1.0.0->-r /content/drive/My Drive/flask-chatterbot/requirements.txt (line 5)) (2.0.1)\n",
            "Requirement already satisfied: numpy>=1.15.0 in /usr/local/lib/python3.6/dist-packages (from spacy<2.2,>=2.1->chatterbot>=1.0.0->-r /content/drive/My Drive/flask-chatterbot/requirements.txt (line 5)) (1.17.5)\n",
            "Requirement already satisfied: idna<2.9,>=2.5 in /usr/local/lib/python3.6/dist-packages (from requests<3.0.0,>=2.13.0->spacy<2.2,>=2.1->chatterbot>=1.0.0->-r /content/drive/My Drive/flask-chatterbot/requirements.txt (line 5)) (2.8)\n",
            "Requirement already satisfied: urllib3<1.25,>=1.21.1 in /usr/local/lib/python3.6/dist-packages (from requests<3.0.0,>=2.13.0->spacy<2.2,>=2.1->chatterbot>=1.0.0->-r /content/drive/My Drive/flask-chatterbot/requirements.txt (line 5)) (1.24.3)\n",
            "Requirement already satisfied: certifi>=2017.4.17 in /usr/local/lib/python3.6/dist-packages (from requests<3.0.0,>=2.13.0->spacy<2.2,>=2.1->chatterbot>=1.0.0->-r /content/drive/My Drive/flask-chatterbot/requirements.txt (line 5)) (2019.11.28)\n",
            "Requirement already satisfied: chardet<3.1.0,>=3.0.2 in /usr/local/lib/python3.6/dist-packages (from requests<3.0.0,>=2.13.0->spacy<2.2,>=2.1->chatterbot>=1.0.0->-r /content/drive/My Drive/flask-chatterbot/requirements.txt (line 5)) (3.0.4)\n",
            "Requirement already satisfied: tqdm<5.0.0,>=4.10.0 in /usr/local/lib/python3.6/dist-packages (from thinc<7.1.0,>=7.0.8->spacy<2.2,>=2.1->chatterbot>=1.0.0->-r /content/drive/My Drive/flask-chatterbot/requirements.txt (line 5)) (4.28.1)\n",
            "Building wheels for collected packages: pyyaml\n",
            "  Building wheel for pyyaml (setup.py) ... \u001b[?25l\u001b[?25hdone\n",
            "  Created wheel for pyyaml: filename=PyYAML-5.1.2-cp36-cp36m-linux_x86_64.whl size=44104 sha256=7762fedd7451efe47340fad1a15e8c08f828b04e725c7a290a9e1c4774333f91\n",
            "  Stored in directory: /root/.cache/pip/wheels/d9/45/dd/65f0b38450c47cf7e5312883deb97d065e030c5cca0a365030\n",
            "Successfully built pyyaml\n",
            "\u001b[31mERROR: albumentations 0.1.12 has requirement imgaug<0.2.7,>=0.2.5, but you'll have imgaug 0.2.9 which is incompatible.\u001b[0m\n",
            "\u001b[31mERROR: chatterbot 1.0.5 has requirement sqlalchemy<1.3,>=1.2, but you'll have sqlalchemy 1.3.13 which is incompatible.\u001b[0m\n",
            "\u001b[31mERROR: chatterbot-corpus 1.2.0 has requirement PyYAML<4.0,>=3.12, but you'll have pyyaml 5.1.2 which is incompatible.\u001b[0m\n",
            "Installing collected packages: pint, mathparse, pyyaml, python-dateutil, chatterbot, chatterbot-corpus\n",
            "  Found existing installation: PyYAML 3.13\n",
            "    Uninstalling PyYAML-3.13:\n",
            "      Successfully uninstalled PyYAML-3.13\n",
            "  Found existing installation: python-dateutil 2.6.1\n",
            "    Uninstalling python-dateutil-2.6.1:\n",
            "      Successfully uninstalled python-dateutil-2.6.1\n",
            "Successfully installed chatterbot-1.0.5 chatterbot-corpus-1.2.0 mathparse-0.1.2 pint-0.11 python-dateutil-2.7.5 pyyaml-5.1.2\n"
          ],
          "name": "stdout"
        },
        {
          "output_type": "display_data",
          "data": {
            "application/vnd.colab-display-data+json": {
              "pip_warning": {
                "packages": [
                  "dateutil"
                ]
              }
            }
          },
          "metadata": {
            "tags": []
          }
        }
      ]
    },
    {
      "cell_type": "code",
      "metadata": {
        "id": "fMvxzpDeSKTR",
        "colab_type": "code",
        "colab": {
          "base_uri": "https://localhost:8080/",
          "height": 292
        },
        "outputId": "93841834-a814-4bba-b772-f4495be9fcab"
      },
      "source": [
        "!pip  install flask_ngrok"
      ],
      "execution_count": 3,
      "outputs": [
        {
          "output_type": "stream",
          "text": [
            "Collecting flask_ngrok\n",
            "  Downloading https://files.pythonhosted.org/packages/af/6c/f54cb686ad1129e27d125d182f90f52b32f284e6c8df58c1bae54fa1adbc/flask_ngrok-0.0.25-py3-none-any.whl\n",
            "Requirement already satisfied: Flask>=0.8 in /usr/local/lib/python3.6/dist-packages (from flask_ngrok) (1.1.1)\n",
            "Requirement already satisfied: requests in /usr/local/lib/python3.6/dist-packages (from flask_ngrok) (2.21.0)\n",
            "Requirement already satisfied: click>=5.1 in /usr/local/lib/python3.6/dist-packages (from Flask>=0.8->flask_ngrok) (7.0)\n",
            "Requirement already satisfied: Jinja2>=2.10.1 in /usr/local/lib/python3.6/dist-packages (from Flask>=0.8->flask_ngrok) (2.11.1)\n",
            "Requirement already satisfied: Werkzeug>=0.15 in /usr/local/lib/python3.6/dist-packages (from Flask>=0.8->flask_ngrok) (1.0.0)\n",
            "Requirement already satisfied: itsdangerous>=0.24 in /usr/local/lib/python3.6/dist-packages (from Flask>=0.8->flask_ngrok) (1.1.0)\n",
            "Requirement already satisfied: idna<2.9,>=2.5 in /usr/local/lib/python3.6/dist-packages (from requests->flask_ngrok) (2.8)\n",
            "Requirement already satisfied: certifi>=2017.4.17 in /usr/local/lib/python3.6/dist-packages (from requests->flask_ngrok) (2019.11.28)\n",
            "Requirement already satisfied: urllib3<1.25,>=1.21.1 in /usr/local/lib/python3.6/dist-packages (from requests->flask_ngrok) (1.24.3)\n",
            "Requirement already satisfied: chardet<3.1.0,>=3.0.2 in /usr/local/lib/python3.6/dist-packages (from requests->flask_ngrok) (3.0.4)\n",
            "Requirement already satisfied: MarkupSafe>=0.23 in /usr/local/lib/python3.6/dist-packages (from Jinja2>=2.10.1->Flask>=0.8->flask_ngrok) (1.1.1)\n",
            "Installing collected packages: flask-ngrok\n",
            "Successfully installed flask-ngrok-0.0.25\n"
          ],
          "name": "stdout"
        }
      ]
    },
    {
      "cell_type": "code",
      "metadata": {
        "id": "B9bZ7Q8oUPqg",
        "colab_type": "code",
        "colab": {
          "base_uri": "https://localhost:8080/",
          "height": 683
        },
        "outputId": "bed49f96-c06c-4116-ff79-d5bac93f0f67"
      },
      "source": [
        "!python \"/content/drive/My Drive/flask-chatterbot/app.py\""
      ],
      "execution_count": 4,
      "outputs": [
        {
          "output_type": "stream",
          "text": [
            "/usr/local/lib/python3.6/dist-packages/distributed/config.py:20: YAMLLoadWarning: calling yaml.load() without Loader=... is deprecated, as the default Loader is unsafe. Please read https://msg.pyyaml.org/load for full details.\n",
            "  defaults = yaml.load(f)\n",
            "[nltk_data] Downloading package averaged_perceptron_tagger to\n",
            "[nltk_data]     /root/nltk_data...\n",
            "[nltk_data]   Package averaged_perceptron_tagger is already up-to-\n",
            "[nltk_data]       date!\n",
            "[nltk_data] Downloading package stopwords to /root/nltk_data...\n",
            "[nltk_data]   Package stopwords is already up-to-date!\n",
            "/usr/local/lib/python3.6/dist-packages/chatterbot/corpus.py:38: YAMLLoadWarning: calling yaml.load() without Loader=... is deprecated, as the default Loader is unsafe. Please read https://msg.pyyaml.org/load for full details.\n",
            "  return yaml.load(data_file)\n",
            "Training ai.yml: [####################] 100%\n",
            "Training botprofile.yml: [####################] 100%\n",
            "Training computers.yml: [####################] 100%\n",
            "Training conversations.yml: [####################] 100%\n",
            "Training emotion.yml: [####################] 100%\n",
            "Training food.yml: [####################] 100%\n",
            "Training gossip.yml: [####################] 100%\n",
            "Training greetings.yml: [####################] 100%\n",
            "Training health.yml: [####################] 100%\n",
            "Training history.yml: [####################] 100%\n",
            "Training humor.yml: [####################] 100%\n",
            "Training literature.yml: [####################] 100%\n",
            "Training money.yml: [####################] 100%\n",
            "Training movies.yml: [####################] 100%\n",
            "Training politics.yml: [####################] 100%\n",
            "Training psychology.yml: [####################] 100%\n",
            "Training science.yml: [####################] 100%\n",
            "Training sports.yml: [####################] 100%\n",
            "Training trivia.yml: [####################] 100%\n",
            " * Serving Flask app \"app\" (lazy loading)\n",
            " * Environment: production\n",
            "\u001b[31m   WARNING: This is a development server. Do not use it in a production deployment.\u001b[0m\n",
            "\u001b[2m   Use a production WSGI server instead.\u001b[0m\n",
            " * Debug mode: off\n",
            " * Running on http://127.0.0.1:5000/ (Press CTRL+C to quit)\n",
            " * Running on http://6f0c80b4.ngrok.io\n",
            " * Traffic stats available on http://127.0.0.1:4040\n",
            "^C\n"
          ],
          "name": "stdout"
        }
      ]
    },
    {
      "cell_type": "code",
      "metadata": {
        "id": "AKXfezqUUh8r",
        "colab_type": "code",
        "colab": {
          "base_uri": "https://localhost:8080/",
          "height": 71
        },
        "outputId": "615f6221-d62d-4f6d-c12f-08df662da010"
      },
      "source": [
        "from chatterbot import ChatBot\n",
        "from chatterbot.trainers import ChatterBotCorpusTrainer\n"
      ],
      "execution_count": 5,
      "outputs": [
        {
          "output_type": "stream",
          "text": [
            "/usr/local/lib/python3.6/dist-packages/distributed/config.py:20: YAMLLoadWarning: calling yaml.load() without Loader=... is deprecated, as the default Loader is unsafe. Please read https://msg.pyyaml.org/load for full details.\n",
            "  defaults = yaml.load(f)\n"
          ],
          "name": "stderr"
        }
      ]
    },
    {
      "cell_type": "code",
      "metadata": {
        "id": "hmISFPcGVd06",
        "colab_type": "code",
        "colab": {
          "base_uri": "https://localhost:8080/",
          "height": 496
        },
        "outputId": "690c80dc-9502-4842-9b84-51b9eb1762fe"
      },
      "source": [
        "english_bot = ChatBot(\"Chatterbot\", storage_adapter=\"chatterbot.storage.SQLStorageAdapter\")\n",
        "trainer = ChatterBotCorpusTrainer(english_bot)\n",
        "trainer.train(\"chatterbot.corpus.english\")\n"
      ],
      "execution_count": 6,
      "outputs": [
        {
          "output_type": "stream",
          "text": [
            "[nltk_data] Downloading package stopwords to /root/nltk_data...\n",
            "[nltk_data]   Package stopwords is already up-to-date!\n",
            "[nltk_data] Downloading package averaged_perceptron_tagger to\n",
            "[nltk_data]     /root/nltk_data...\n",
            "[nltk_data]   Package averaged_perceptron_tagger is already up-to-\n",
            "[nltk_data]       date!\n",
            "\rTraining ai.yml: [                    ] 1%"
          ],
          "name": "stdout"
        },
        {
          "output_type": "stream",
          "text": [
            "/usr/local/lib/python3.6/dist-packages/chatterbot/corpus.py:38: YAMLLoadWarning: calling yaml.load() without Loader=... is deprecated, as the default Loader is unsafe. Please read https://msg.pyyaml.org/load for full details.\n",
            "  return yaml.load(data_file)\n"
          ],
          "name": "stderr"
        },
        {
          "output_type": "stream",
          "text": [
            "Training ai.yml: [####################] 100%\n",
            "Training botprofile.yml: [####################] 100%\n",
            "Training computers.yml: [####################] 100%\n",
            "Training conversations.yml: [####################] 100%\n",
            "Training emotion.yml: [####################] 100%\n",
            "Training food.yml: [####################] 100%\n",
            "Training gossip.yml: [####################] 100%\n",
            "Training greetings.yml: [####################] 100%\n",
            "\n",
            "\n",
            "Training humor.yml: [####################] 100%\n",
            "Training literature.yml: [####################] 100%\n",
            "Training money.yml: [####################] 100%\n",
            "Training movies.yml: [####################] 100%\n",
            "\n",
            "\n",
            "Training science.yml: [####################] 100%\n",
            "Training sports.yml: [####################] 100%\n",
            "Training trivia.yml: [####################] 100%\n"
          ],
          "name": "stdout"
        }
      ]
    },
    {
      "cell_type": "code",
      "metadata": {
        "id": "Ezr5qsdYViCr",
        "colab_type": "code",
        "colab": {}
      },
      "source": [
        "def get_bot_response(userText):\n",
        "    return str(english_bot.get_response(userText))"
      ],
      "execution_count": 0,
      "outputs": []
    },
    {
      "cell_type": "code",
      "metadata": {
        "id": "ZxOoEKFIVqR5",
        "colab_type": "code",
        "colab": {
          "base_uri": "https://localhost:8080/",
          "height": 393
        },
        "outputId": "31aaa83a-85d4-4f68-cbda-5f21f3114249"
      },
      "source": [
        "flag=True\n",
        "print(\"ROBO: My name is Robo. I will answer your queries about Chatbots. If you want to exit, type Bye!\")\n",
        "while(flag==True):\n",
        "    user_response = input()\n",
        "    user_response=user_response.lower()\n",
        "    if(user_response!='bye'):\n",
        "        if(user_response=='thanks' or user_response=='thank you' ):\n",
        "            flag=False\n",
        "            print(\"ROBO: You are welcome..\")\n",
        "        else:\n",
        "          print(str(english_bot.get_response(user_response)))\n",
        "    else:\n",
        "        flag=False\n",
        "        print(\"ROBO: Bye! take care..\")"
      ],
      "execution_count": 0,
      "outputs": [
        {
          "output_type": "stream",
          "text": [
            "ROBO: My name is Robo. I will answer your queries about Chatbots. If you want to exit, type Bye!\n",
            "Hi\n",
            "How are you doing?\n",
            "I am fine\n",
            "Tell me a joke\n",
            "how are you\n",
            "I am on the Internet.\n",
            "tell me a joke\n",
            "Did you hear the one about the mountain goats in the andes? It was \"ba a a a a a d\".\n",
            "ha ha\n",
            "What kind of movies do you like?\n",
            "fiction\n",
            "I love exploring my hardware.\n",
            "tell me about the latest work in computer science\n",
            "Any computer that supports Python.\n",
            "what is Python\n",
            "lem is a giant of sci-fi.\n",
            "Are you still learning\n",
            "The heart of the computer, to put it simply.\n",
            "wrong answers\n",
            "Hal misses Sal.\n"
          ],
          "name": "stdout"
        }
      ]
    },
    {
      "cell_type": "code",
      "metadata": {
        "id": "9kBLatC5WIfD",
        "colab_type": "code",
        "colab": {}
      },
      "source": [
        ""
      ],
      "execution_count": 0,
      "outputs": []
    }
  ]
}